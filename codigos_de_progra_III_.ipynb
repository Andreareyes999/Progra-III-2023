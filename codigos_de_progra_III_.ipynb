{
  "nbformat": 4,
  "nbformat_minor": 0,
  "metadata": {
    "colab": {
      "provenance": [],
      "authorship_tag": "ABX9TyM3Ayf62ogW3uPgvAQViJVc",
      "include_colab_link": true
    },
    "kernelspec": {
      "name": "python3",
      "display_name": "Python 3"
    },
    "language_info": {
      "name": "python"
    }
  },
  "cells": [
    {
      "cell_type": "markdown",
      "metadata": {
        "id": "view-in-github",
        "colab_type": "text"
      },
      "source": [
        "<a href=\"https://colab.research.google.com/github/Andreareyes999/Progra-III-2023/blob/main/codigos_de_progra_III_.ipynb\" target=\"_parent\"><img src=\"https://colab.research.google.com/assets/colab-badge.svg\" alt=\"Open In Colab\"/></a>"
      ]
    },
    {
      "cell_type": "markdown",
      "source": [
        "# ***PROGRAMACION 3***"
      ],
      "metadata": {
        "id": "K9IuUBsTGND3"
      }
    },
    {
      "cell_type": "markdown",
      "source": [
        "Introducción a Python\n",
        "\n",
        "Declaración de variables"
      ],
      "metadata": {
        "id": "oqLXYhD8Hml3"
      }
    },
    {
      "cell_type": "code",
      "execution_count": null,
      "metadata": {
        "colab": {
          "base_uri": "https://localhost:8080/"
        },
        "id": "G9bUZKkWGHZn",
        "outputId": "aac59458-eb6a-4411-be6e-f18805793e57"
      },
      "outputs": [
        {
          "output_type": "stream",
          "name": "stdout",
          "text": [
            "Hola Mundo\n"
          ]
        }
      ],
      "source": [
        "saludo = \"Hola Mundo\"\n",
        "print(saludo)"
      ]
    },
    {
      "cell_type": "code",
      "source": [
        "num1 = 5\n",
        "num2 = 7.5\n",
        "resp = num1 + num2\n",
        "print(\"La suma de\", num1, \"+\", num2, \"=\", resp)\n",
        "print(resp)"
      ],
      "metadata": {
        "colab": {
          "base_uri": "https://localhost:8080/"
        },
        "id": "7yTtqvf9IypE",
        "outputId": "94d74d2a-5123-4a8b-bbd6-4ce3826e74f5"
      },
      "execution_count": null,
      "outputs": [
        {
          "output_type": "stream",
          "name": "stdout",
          "text": [
            "La suma de 5 + 7.5 = 12.5\n",
            "12.5\n"
          ]
        }
      ]
    },
    {
      "cell_type": "code",
      "source": [
        "name = \"Andrea Reyes\"\n",
        "edad = 23\n",
        "saludo = \"Hola \"+ name + \", tu edad: \"+ str(edad)\n",
        "print(saludo)"
      ],
      "metadata": {
        "colab": {
          "base_uri": "https://localhost:8080/"
        },
        "id": "EJ8Uyq0CKItC",
        "outputId": "2534b95b-bd57-440a-dcc9-6c1f8740a2ec"
      },
      "execution_count": null,
      "outputs": [
        {
          "output_type": "stream",
          "name": "stdout",
          "text": [
            "Hola Andrea Reyes, tu edad: 23\n"
          ]
        }
      ]
    },
    {
      "cell_type": "code",
      "source": [
        "nombre = input(\"Dime tu nombre: \")\n",
        "edad = input(\"Tu edad: \")\n",
        "saludo = \"Hola que tal \"+ nombre + \", tu edad: \"+ edad\n",
        "print(saludo)"
      ],
      "metadata": {
        "id": "2nOqgmcALLsK",
        "colab": {
          "base_uri": "https://localhost:8080/"
        },
        "outputId": "6922ad8f-86ae-4e7a-8ea0-98be1141f237"
      },
      "execution_count": null,
      "outputs": [
        {
          "output_type": "stream",
          "name": "stdout",
          "text": [
            "Dime tu nombre: Andrea Reyes\n",
            "Tu edad: 22\n",
            "Hola que tal Andrea Reyes, tu edad: 22\n"
          ]
        }
      ]
    },
    {
      "cell_type": "code",
      "source": [
        "num1 = float(input(\"Digite el primer numero: \"))\n",
        "num2 = float(input(\"Digite el segundo numero: \"))\n",
        "suma= num1 + num2\n",
        "print(\"La suma es: \", suma)"
      ],
      "metadata": {
        "id": "1IhxCfthP8Ku",
        "colab": {
          "base_uri": "https://localhost:8080/"
        },
        "outputId": "336e7522-e556-419b-ac58-2c89bebc35a4"
      },
      "execution_count": null,
      "outputs": [
        {
          "output_type": "stream",
          "name": "stdout",
          "text": [
            "Digite el primer numero: 34\n",
            "Digite el segundo numero: 22\n",
            "La suma es:  56.0\n"
          ]
        }
      ]
    },
    {
      "cell_type": "code",
      "source": [
        "num1 = float(input(\"Digite el primer numero: \"))\n",
        "num2 = float(input(\"Digite el segundo numero: \"))\n",
        "resta= num1 - num2\n",
        "print(\"La resta es: \", resta)"
      ],
      "metadata": {
        "id": "drGT7Ph0MaBd",
        "colab": {
          "base_uri": "https://localhost:8080/"
        },
        "outputId": "5fdfec24-da78-41b0-960b-bd2ae3caf4b2"
      },
      "execution_count": null,
      "outputs": [
        {
          "output_type": "stream",
          "name": "stdout",
          "text": [
            "Digite el primer numero: 4\n",
            "Digite el segundo numero: 3\n",
            "La resta es:  1.0\n"
          ]
        }
      ]
    },
    {
      "cell_type": "code",
      "source": [
        "num1 = float(input(\"Digite el primer numero: \"))\n",
        "num2 = float(input(\"Digite el segundo numero: \"))\n",
        "mult= num1 * num2\n",
        "print(\"La multiplicación es: \", mult)"
      ],
      "metadata": {
        "id": "LaNdtiLuQD9F",
        "colab": {
          "base_uri": "https://localhost:8080/"
        },
        "outputId": "1c47cf2a-e325-4331-90f2-e6b81db3a110"
      },
      "execution_count": null,
      "outputs": [
        {
          "output_type": "stream",
          "name": "stdout",
          "text": [
            "Digite el primer numero: 7\n",
            "Digite el segundo numero: 5\n",
            "La multiplicación es:  35.0\n"
          ]
        }
      ]
    },
    {
      "cell_type": "code",
      "source": [
        "num1 = float(input(\"Digite el primer numero: \"))\n",
        "num2 = float(input(\"Digite el segundo numero: \"))\n",
        "div= num1 / num2\n",
        "print(\"La división es: \", div)"
      ],
      "metadata": {
        "id": "ZTqxIr4XQMXd",
        "colab": {
          "base_uri": "https://localhost:8080/"
        },
        "outputId": "3f075940-cc2c-41e3-d49d-09e46cac6e48"
      },
      "execution_count": null,
      "outputs": [
        {
          "output_type": "stream",
          "name": "stdout",
          "text": [
            "Digite el primer numero: 6\n",
            "Digite el segundo numero: 2\n",
            "La división es:  3.0\n"
          ]
        }
      ]
    },
    {
      "cell_type": "markdown",
      "source": [
        "**TIPOS DE DATOS**"
      ],
      "metadata": {
        "id": "_9elJwV3Mofd"
      }
    },
    {
      "cell_type": "code",
      "source": [
        "num1 = 5 #variable de tipo entero.\n",
        "num2 = 4.9 #variable de tipo double, real, decimal.\n",
        "print(\"Los valores: Num 1: \", num1, \" Num 2: \", num2)\n",
        "\n",
        "#num1 = 4.9\n",
        "print(\"Valor: Num 1: \", num1)"
      ],
      "metadata": {
        "colab": {
          "base_uri": "https://localhost:8080/"
        },
        "id": "WVvsX-T8M2gF",
        "outputId": "682ce345-916c-450b-bad5-d2fc4d21a149"
      },
      "execution_count": null,
      "outputs": [
        {
          "output_type": "stream",
          "name": "stdout",
          "text": [
            "Los valores: Num 1:  5  Num 2:  4.9\n",
            "Valor: Num 1:  5\n"
          ]
        }
      ]
    },
    {
      "cell_type": "code",
      "source": [
        "varLogica = False\n",
        "\n",
        "print(\"Variable Booleana: \", varLogica)"
      ],
      "metadata": {
        "colab": {
          "base_uri": "https://localhost:8080/"
        },
        "id": "HmBx6791M7Vu",
        "outputId": "147f24e5-2c36-4037-a440-e088a39152b8"
      },
      "execution_count": null,
      "outputs": [
        {
          "output_type": "stream",
          "name": "stdout",
          "text": [
            "Variable Booleana:  False\n"
          ]
        }
      ]
    },
    {
      "cell_type": "code",
      "source": [
        "nombre = \"Andrea Saravia\"\n",
        "print(\"Mi Nombre: \", nombre, \"Iniciales: \", nombre[0], nombre[5], \"Longitud: \", len(nombre) )\n",
        "print(\"Primer Nombre: \", nombre[0:5])\n",
        "print(\"Primer Nombre: \", nombre[:5])\n",
        "print(\"Apellido: \", nombre[5:len(nombre)])\n",
        "print(\"Apellid: \", nombre[5:])\n",
        "print(\"Apellido: \", nombre[-9:])"
      ],
      "metadata": {
        "colab": {
          "base_uri": "https://localhost:8080/"
        },
        "id": "DIbp2gvSM9eh",
        "outputId": "405f01bd-6c60-4e6d-f761-719955906ba4"
      },
      "execution_count": null,
      "outputs": [
        {
          "output_type": "stream",
          "name": "stdout",
          "text": [
            "Mi Nombre:  Andrea Saravia Iniciales:  A a Longitud:  14\n",
            "Primer Nombre:  Andre\n",
            "Primer Nombre:  Andre\n",
            "Apellido:  a Saravia\n",
            "Apellid:  a Saravia\n",
            "Apellido:  a Saravia\n"
          ]
        }
      ]
    },
    {
      "cell_type": "code",
      "source": [
        "print(type(num1))\n",
        "print(type(num2))\n",
        "print(type(varLogica))\n",
        "print(type(nombre))"
      ],
      "metadata": {
        "colab": {
          "base_uri": "https://localhost:8080/"
        },
        "id": "xTGkaU87NDmE",
        "outputId": "22c83eec-510d-4d0b-f309-837de1d118c0"
      },
      "execution_count": null,
      "outputs": [
        {
          "output_type": "stream",
          "name": "stdout",
          "text": [
            "<class 'int'>\n",
            "<class 'float'>\n",
            "<class 'bool'>\n",
            "<class 'str'>\n"
          ]
        }
      ]
    },
    {
      "cell_type": "code",
      "source": [
        "num1 = float(input(\"Num 1: \"))\n",
        "num2 = float(input(\"Num 2: \"))\n",
        "resp = num1 + num2\n",
        "print(\"La suma es: \", resp)"
      ],
      "metadata": {
        "colab": {
          "base_uri": "https://localhost:8080/"
        },
        "id": "M9wAzy4jNHiH",
        "outputId": "4856f3dd-0422-4e87-93c0-ee1c5beb4b70"
      },
      "execution_count": null,
      "outputs": [
        {
          "output_type": "stream",
          "name": "stdout",
          "text": [
            "Num 1: 44\n",
            "Num 2: 22\n",
            "La suma es:  66.0\n"
          ]
        }
      ]
    },
    {
      "cell_type": "code",
      "source": [
        "def suma(num1, num2):\n",
        "  return num1 + num2"
      ],
      "metadata": {
        "id": "arJO0e3pNLBj"
      },
      "execution_count": null,
      "outputs": []
    },
    {
      "cell_type": "code",
      "source": [
        "num1 = float(input(\"Num 1: \"))\n",
        "num2 = float(input(\"N4.26um 2: \"))\n",
        "resp = suma(num1, num2)\n",
        "print(resp)"
      ],
      "metadata": {
        "colab": {
          "base_uri": "https://localhost:8080/"
        },
        "id": "IAjoziaUNNKQ",
        "outputId": "ae23c55a-8e7a-45b8-abdb-b0654e614306"
      },
      "execution_count": null,
      "outputs": [
        {
          "output_type": "stream",
          "name": "stdout",
          "text": [
            "Num 1: 29\n",
            "N4.26um 2: 12\n",
            "41.0\n"
          ]
        }
      ]
    },
    {
      "cell_type": "markdown",
      "source": [
        "**FUNCIONES DE USUARIO**\n",
        "\n",
        "* Convertir grados celsius a farenheit."
      ],
      "metadata": {
        "id": "LLs6INarAasF"
      }
    },
    {
      "cell_type": "code",
      "source": [
        "def convertir_cf(c):\n",
        "  return c*9/5 + 32"
      ],
      "metadata": {
        "id": "v3WlVGVRBxIe"
      },
      "execution_count": null,
      "outputs": []
    },
    {
      "cell_type": "code",
      "source": [
        "c = float(input(\"Celsius: \"))\n",
        "print(\"Farenheit: \", convertir_cf(c))"
      ],
      "metadata": {
        "colab": {
          "base_uri": "https://localhost:8080/"
        },
        "id": "Mj33QoxmAa9d",
        "outputId": "c32164ef-850a-44ee-80af-179ed1a50e68"
      },
      "execution_count": null,
      "outputs": [
        {
          "output_type": "stream",
          "name": "stdout",
          "text": [
            "Celsius: 200\n",
            "Farenheit:  392.0\n"
          ]
        }
      ]
    },
    {
      "cell_type": "markdown",
      "source": [
        "* Convertir grados farenheit a celsius.\n",
        "\n"
      ],
      "metadata": {
        "id": "_LAJU7rIE4VN"
      }
    },
    {
      "cell_type": "code",
      "source": [
        "def convertir_fc(f):\n",
        "  return (f-32) * 5/9"
      ],
      "metadata": {
        "id": "U-Z3IjfTE_4S"
      },
      "execution_count": null,
      "outputs": []
    },
    {
      "cell_type": "code",
      "source": [
        "f = float(input(\"Farenheit: \"))\n",
        "print(\"Celsius: \", convertir_fc(f))"
      ],
      "metadata": {
        "colab": {
          "base_uri": "https://localhost:8080/"
        },
        "id": "qpa7rzPQFDoC",
        "outputId": "65ac1218-6435-4ee6-c7f1-ce5fbb365c8a"
      },
      "execution_count": null,
      "outputs": [
        {
          "output_type": "stream",
          "name": "stdout",
          "text": [
            "Farenheit: 456\n",
            "Celsius:  235.55555555555554\n"
          ]
        }
      ]
    },
    {
      "cell_type": "markdown",
      "source": [
        "* Convertir grados celsius a kelvin."
      ],
      "metadata": {
        "id": "Uqw9Ox19GFbm"
      }
    },
    {
      "cell_type": "code",
      "source": [
        "def convertir_ck(c):\n",
        "  return c + 273.15"
      ],
      "metadata": {
        "id": "YdQ8p4q8GHxg"
      },
      "execution_count": null,
      "outputs": []
    },
    {
      "cell_type": "code",
      "source": [
        "c = float(input(\"Celsius: \"))\n",
        "print(\"Kelvin: \", convertir_ck(c))"
      ],
      "metadata": {
        "colab": {
          "base_uri": "https://localhost:8080/"
        },
        "id": "pXTCzxqbGH_-",
        "outputId": "7c5efe48-6312-4ce9-f599-0b7c0a3aff56"
      },
      "execution_count": null,
      "outputs": [
        {
          "output_type": "stream",
          "name": "stdout",
          "text": [
            "Celsius: 54\n",
            "Kelvin:  327.15\n"
          ]
        }
      ]
    },
    {
      "cell_type": "markdown",
      "source": [
        "* Convertir grados farenheit a kelvin."
      ],
      "metadata": {
        "id": "V8l5UBvMHbcn"
      }
    },
    {
      "cell_type": "code",
      "source": [
        "def convertir_fk(f):\n",
        "  return (f - 32) * 5/9 + 273.15"
      ],
      "metadata": {
        "id": "k5P9sXiRHcGF"
      },
      "execution_count": null,
      "outputs": []
    },
    {
      "cell_type": "code",
      "source": [
        "f = float(input(\"Farenheit: \"))\n",
        "print(\"Kelvin: \", convertir_fk(f))"
      ],
      "metadata": {
        "colab": {
          "base_uri": "https://localhost:8080/"
        },
        "id": "M8atxN1NHfIt",
        "outputId": "7db74a99-bb23-4e46-eaf9-7c047c51576d"
      },
      "execution_count": null,
      "outputs": [
        {
          "output_type": "stream",
          "name": "stdout",
          "text": [
            "Farenheit: 129\n",
            "Kelvin:  327.0388888888889\n"
          ]
        }
      ]
    },
    {
      "cell_type": "markdown",
      "source": [
        "* Convertir grados kelvin a celsius."
      ],
      "metadata": {
        "id": "iabPe8MxGnr-"
      }
    },
    {
      "cell_type": "code",
      "source": [
        "def convertir_kc(k):\n",
        "  return k - 273.15"
      ],
      "metadata": {
        "id": "BSMKGux-Gpve"
      },
      "execution_count": null,
      "outputs": []
    },
    {
      "cell_type": "code",
      "source": [
        "k = float(input(\"Kelvin: \"))\n",
        "print(\"Celsius: \", convertir_kc(k))"
      ],
      "metadata": {
        "colab": {
          "base_uri": "https://localhost:8080/"
        },
        "id": "kZSbYnv9Gp-O",
        "outputId": "bae55232-67c9-4ff8-d203-43cae9ca9f63"
      },
      "execution_count": null,
      "outputs": [
        {
          "output_type": "stream",
          "name": "stdout",
          "text": [
            "Kelvin: 50\n",
            "Celsius:  -223.14999999999998\n"
          ]
        }
      ]
    },
    {
      "cell_type": "markdown",
      "source": [
        "* Convertir grados kelvin a farenheit."
      ],
      "metadata": {
        "id": "jyQsSRD5IHL-"
      }
    },
    {
      "cell_type": "code",
      "source": [
        "def convertir_kf(k):\n",
        "  return (k - 273.15) * 9/5 + 32"
      ],
      "metadata": {
        "id": "FbGKCu9tIJmf"
      },
      "execution_count": null,
      "outputs": []
    },
    {
      "cell_type": "code",
      "source": [
        "k = float(input(\"Kelvin: \"))\n",
        "print(\"Farenheit: \", convertir_kf(k))"
      ],
      "metadata": {
        "colab": {
          "base_uri": "https://localhost:8080/"
        },
        "id": "KbIJspaHIJz_",
        "outputId": "168268ca-f27c-4ccc-89d9-fb3f1bcd3d6f"
      },
      "execution_count": null,
      "outputs": [
        {
          "output_type": "stream",
          "name": "stdout",
          "text": [
            "Kelvin: 209.09\n",
            "Farenheit:  -83.30799999999995\n"
          ]
        }
      ]
    },
    {
      "cell_type": "markdown",
      "source": [
        "* CALCULAR EL SUELDO MENSUAL"
      ],
      "metadata": {
        "id": "n-SOa42BJJVo"
      }
    },
    {
      "cell_type": "code",
      "source": [
        "def sueldo(numHrs, valorXhr):\n",
        "  sueldo = numHrs*valorXhr*30\n",
        "  if(numHrs>8):\n",
        "    sueldo += (numHrs-8)*valorXhr*2*30\n",
        "  #isss + afp = 3 + 6.25 = 9.25 = 100 - 9.25 = 90.75/100 = 0.09075\n",
        "  #sueldo = sueldo*0.9075\n",
        "  return sueldo"
      ],
      "metadata": {
        "id": "w3bftYdaKM0Y"
      },
      "execution_count": null,
      "outputs": []
    },
    {
      "cell_type": "code",
      "source": [
        "tabla_isr = [\n",
        "    [0.01, 472, 0, 0],\n",
        "    [472.01, 895.24, 0.1, 17.67],\n",
        "    [895.25, 2038.1, 0.2, 60.00],\n",
        "    [2038.11, 9999999, 0.3, 288.57]\n",
        "]"
      ],
      "metadata": {
        "id": "144AsjRMVMht"
      },
      "execution_count": null,
      "outputs": []
    },
    {
      "cell_type": "code",
      "source": [
        "def calcularIsr(sueldo, sueldoNeto):\n",
        "  impSr = 0\n",
        "  for tramo in tabla_isr:\n",
        "    if sueldo>tramo[0] and sueldo<=tramo[1]:\n",
        "      impSr = (sueldoNeto-tramo[0])*tramo[2] +tramo [3]\n",
        "  return impSr"
      ],
      "metadata": {
        "id": "eg6gzZaKXVcA"
      },
      "execution_count": null,
      "outputs": []
    },
    {
      "cell_type": "code",
      "source": [
        "valorXhr = 4\n",
        "#isss = 3%\n",
        "#afp = 6.25%\n",
        "numHrs = float(input(\"Horas trabajadas: \"))\n",
        "s = sueldo(numHrs, valorXhr)\n",
        "isr = calcularIsr(s, s*0.9075)\n",
        "print(\"Sueldo: \", s, \"ISR: \", isr, s*0.9075-isr)"
      ],
      "metadata": {
        "colab": {
          "base_uri": "https://localhost:8080/"
        },
        "id": "PuPSjiwqKtip",
        "outputId": "3d39e5ae-974b-4d4b-ccc7-bbda49f6a9c4"
      },
      "execution_count": null,
      "outputs": [
        {
          "output_type": "stream",
          "name": "stdout",
          "text": [
            "Horas trabajadas: 6\n",
            "Sueldo:  720.0 ISR:  35.809 617.591\n"
          ]
        }
      ]
    },
    {
      "cell_type": "markdown",
      "source": [
        "FUNCIONES LAMBDA\n",
        "\n",
        "* FUNCIONES PRECONTRUIDAS MAP, FILTER, FIND, REDUCE, ETC."
      ],
      "metadata": {
        "id": "-38Mvtg-79ZY"
      }
    },
    {
      "cell_type": "code",
      "source": [
        "def elevarCuadrado(num):\n",
        "  return num**2"
      ],
      "metadata": {
        "id": "wP2yoFQgNtMZ"
      },
      "execution_count": null,
      "outputs": []
    },
    {
      "cell_type": "code",
      "source": [
        "data = [1,2,3,4,5]"
      ],
      "metadata": {
        "id": "-uZdt4YxNwjQ"
      },
      "execution_count": null,
      "outputs": []
    },
    {
      "cell_type": "code",
      "source": [
        "resp = map(elevarCuadrado, data)\n",
        "print(list(resp))"
      ],
      "metadata": {
        "colab": {
          "base_uri": "https://localhost:8080/"
        },
        "id": "iG7w3F-xNyQB",
        "outputId": "d1144335-2c07-443e-ef35-31df06d9d7fd"
      },
      "execution_count": null,
      "outputs": [
        {
          "output_type": "stream",
          "name": "stdout",
          "text": [
            "[1, 4, 9, 16, 25]\n"
          ]
        }
      ]
    },
    {
      "cell_type": "code",
      "source": [
        "resp = map(lambda n:n**2, data)\n",
        "print(list(resp))"
      ],
      "metadata": {
        "colab": {
          "base_uri": "https://localhost:8080/"
        },
        "id": "jNbQB8hrN0mT",
        "outputId": "57aa927b-2c0d-44ad-9247-937cb7b47c15"
      },
      "execution_count": null,
      "outputs": [
        {
          "output_type": "stream",
          "name": "stdout",
          "text": [
            "[1, 4, 9, 16, 25]\n"
          ]
        }
      ]
    },
    {
      "cell_type": "code",
      "source": [
        "resp = filter(lambda n:n>2, data)\n",
        "print( list(resp) )"
      ],
      "metadata": {
        "colab": {
          "base_uri": "https://localhost:8080/"
        },
        "id": "tdJaSUWMN23y",
        "outputId": "9bcc157e-4324-4edf-9e6b-3c9c2322cb97"
      },
      "execution_count": null,
      "outputs": [
        {
          "output_type": "stream",
          "name": "stdout",
          "text": [
            "[3, 4, 5]\n"
          ]
        }
      ]
    },
    {
      "cell_type": "code",
      "source": [
        "import functools\n",
        "\n",
        "resp = functools.reduce(lambda a,n:a+n, data)\n",
        "print(resp)"
      ],
      "metadata": {
        "id": "OoLyhxbpN48f",
        "colab": {
          "base_uri": "https://localhost:8080/"
        },
        "outputId": "907c149b-5333-4581-9a7f-e2ae2cb63dad"
      },
      "execution_count": null,
      "outputs": [
        {
          "output_type": "stream",
          "name": "stdout",
          "text": [
            "15\n"
          ]
        }
      ]
    },
    {
      "cell_type": "markdown",
      "source": [
        "TUPLAS"
      ],
      "metadata": {
        "id": "_KwL6hK38RUj"
      }
    },
    {
      "cell_type": "code",
      "source": [
        "semana = (\"domingo\", \"lunes\", \"martes\", \"miercoles\", \"jueves\", \"viernes\", \"sabado\")\n",
        "#semana[0] = \"otro\"\n",
        "print( semana.count(\"domingo\") ) #count cuenta el numero de veces que aparece un elemento en la tupla\n",
        "print( len(semana) )"
      ],
      "metadata": {
        "colab": {
          "base_uri": "https://localhost:8080/"
        },
        "id": "TZJNgG0y8PyA",
        "outputId": "dbdb4b93-3314-46e0-8468-c35d1c43ae63"
      },
      "execution_count": null,
      "outputs": [
        {
          "output_type": "stream",
          "name": "stdout",
          "text": [
            "1\n",
            "7\n"
          ]
        }
      ]
    },
    {
      "cell_type": "markdown",
      "source": [
        "**LISTAS => Array**"
      ],
      "metadata": {
        "id": "WwdA4wx78oEQ"
      }
    },
    {
      "cell_type": "code",
      "source": [
        "meses = [\"ene\", \"feb\", \"mar\", \"abr\", \"may\", \"jun\", \"jul\", \"ago\", \"sep\", \"oct\", \"nov\", \"dic\"]\n",
        "print( meses[-2:] ) #ultimos dos meses del año\n",
        "print( meses[:2] ) #primero dos meses del año\n",
        "\n",
        "meses[0] = \"enero\"\n",
        "\n",
        "print( meses )"
      ],
      "metadata": {
        "colab": {
          "base_uri": "https://localhost:8080/"
        },
        "id": "fu3EPSfTOK2g",
        "outputId": "52792618-f1c0-4d73-c0a8-6cded32380b4"
      },
      "execution_count": null,
      "outputs": [
        {
          "output_type": "stream",
          "name": "stdout",
          "text": [
            "['nov', 'dic']\n",
            "['ene', 'feb']\n",
            "['enero', 'feb', 'mar', 'abr', 'may', 'jun', 'jul', 'ago', 'sep', 'oct', 'nov', 'dic']\n"
          ]
        }
      ]
    },
    {
      "cell_type": "code",
      "source": [
        "materias = [ [\"Progra I\", [5,6,8], [8,7,9], [9,10,9] ], [\"Progra II\"] ]\n",
        "print( materias[1][0] )"
      ],
      "metadata": {
        "colab": {
          "base_uri": "https://localhost:8080/"
        },
        "id": "3Xi4Z30zONNx",
        "outputId": "b19b1971-6a66-4360-d617-5c9360259044"
      },
      "execution_count": null,
      "outputs": [
        {
          "output_type": "stream",
          "name": "stdout",
          "text": [
            "Progra II\n"
          ]
        }
      ]
    },
    {
      "cell_type": "markdown",
      "source": [
        "DICCIONARIOS => JSON"
      ],
      "metadata": {
        "id": "whT1YsC9844D"
      }
    },
    {
      "cell_type": "code",
      "source": [
        "materias = {\n",
        "    \"Progra I\": {\n",
        "        \"c1\": {\n",
        "          \"lab1\" : 5,\n",
        "          \"lab2\" : 6,\n",
        "          \"parcial\" : 8\n",
        "      },\n",
        "      \"c2\": {\n",
        "          \"lab1\" : 8,\n",
        "          \"lab2\" : 7,\n",
        "          \"parcial\" : 9\n",
        "      },\n",
        "      \"c3\": {\n",
        "          \"lab1\" : 9,\n",
        "          \"lab2\" : 10,\n",
        "          \"parcial\" : 9\n",
        "      }\n",
        "    },\n",
        "    \"Progra II\" :{\n",
        "\n",
        "    }\n",
        "}\n",
        "print( materias[\"Progra I\"][\"c1\"][\"lab1\"] )"
      ],
      "metadata": {
        "colab": {
          "base_uri": "https://localhost:8080/"
        },
        "id": "7mPBuYt7838N",
        "outputId": "135edbb1-6c18-4671-afa6-d5bbbd4ae4b4"
      },
      "execution_count": null,
      "outputs": [
        {
          "output_type": "stream",
          "name": "stdout",
          "text": [
            "5\n"
          ]
        }
      ]
    },
    {
      "cell_type": "markdown",
      "source": [
        "LISTAS"
      ],
      "metadata": {
        "id": "yYeZlDA09KPB"
      }
    },
    {
      "cell_type": "code",
      "source": [
        "data = [2,5,6,8,9]"
      ],
      "metadata": {
        "id": "RV-UmXmpFs6W"
      },
      "execution_count": null,
      "outputs": []
    },
    {
      "cell_type": "code",
      "source": [
        "resp = map(lambda n:n**3, data)\n",
        "print(list(resp))"
      ],
      "metadata": {
        "colab": {
          "base_uri": "https://localhost:8080/"
        },
        "id": "puhPV4JGHYNc",
        "outputId": "dd14050b-f4ff-4bec-ee11-17984c65c853"
      },
      "execution_count": null,
      "outputs": [
        {
          "output_type": "stream",
          "name": "stdout",
          "text": [
            "[8, 125, 216, 512, 729]\n"
          ]
        }
      ]
    },
    {
      "cell_type": "code",
      "source": [
        "fahrenheit = map(lambda c: c * 9/5 + 32, data)\n",
        "print(list(fahrenheit))"
      ],
      "metadata": {
        "colab": {
          "base_uri": "https://localhost:8080/"
        },
        "id": "vLO-qDwqIVG3",
        "outputId": "db527a76-0597-4dbb-dd4d-3df6a4a53916"
      },
      "execution_count": null,
      "outputs": [
        {
          "output_type": "stream",
          "name": "stdout",
          "text": [
            "[35.6, 41.0, 42.8, 46.4, 48.2]\n"
          ]
        }
      ]
    },
    {
      "cell_type": "code",
      "source": [
        "par = filter(lambda x: x%2 == 0, data)\n",
        "print(list(par))"
      ],
      "metadata": {
        "colab": {
          "base_uri": "https://localhost:8080/"
        },
        "id": "FI-RzNjJLBdh",
        "outputId": "4d7a3e69-941c-4f77-d6aa-09d4c4428e74"
      },
      "execution_count": null,
      "outputs": [
        {
          "output_type": "stream",
          "name": "stdout",
          "text": [
            "[2, 6, 8]\n"
          ]
        }
      ]
    },
    {
      "cell_type": "code",
      "source": [
        "impar = filter(lambda x: x%2 != 0, data)\n",
        "print(list(impar))"
      ],
      "metadata": {
        "colab": {
          "base_uri": "https://localhost:8080/"
        },
        "id": "CEIbrmi_MLv_",
        "outputId": "9ea44c01-365e-447b-c3ac-abfc505c510c"
      },
      "execution_count": null,
      "outputs": [
        {
          "output_type": "stream",
          "name": "stdout",
          "text": [
            "[5, 9]\n"
          ]
        }
      ]
    },
    {
      "cell_type": "markdown",
      "source": [
        "CICLOS\n",
        "\n",
        "* FOR"
      ],
      "metadata": {
        "id": "h8ITdook9dw3"
      }
    },
    {
      "cell_type": "code",
      "source": [
        "for item in data:\n",
        "  print(item)"
      ],
      "metadata": {
        "id": "2rbnrh6yOdF1",
        "colab": {
          "base_uri": "https://localhost:8080/"
        },
        "outputId": "1e3d9e1e-60ad-45e1-d9c6-2f29ac61232b"
      },
      "execution_count": null,
      "outputs": [
        {
          "output_type": "stream",
          "name": "stdout",
          "text": [
            "2\n",
            "5\n",
            "6\n",
            "8\n",
            "9\n"
          ]
        }
      ]
    },
    {
      "cell_type": "markdown",
      "source": [
        "* **WHILE**"
      ],
      "metadata": {
        "id": "RSMsVazqPAzx"
      }
    },
    {
      "cell_type": "code",
      "source": [
        "i=0\n",
        "n = len(data)\n",
        "while i<n:\n",
        "  print( data[i] )\n",
        "  i+=1"
      ],
      "metadata": {
        "id": "Os5VejaEO_OB",
        "colab": {
          "base_uri": "https://localhost:8080/"
        },
        "outputId": "a5172f5d-4326-4c6d-a219-f5aaac0d103f"
      },
      "execution_count": null,
      "outputs": [
        {
          "output_type": "stream",
          "name": "stdout",
          "text": [
            "2\n",
            "5\n",
            "6\n",
            "8\n",
            "9\n"
          ]
        }
      ]
    },
    {
      "cell_type": "markdown",
      "source": [
        "**TABLA DE MULTIPLICAR**"
      ],
      "metadata": {
        "id": "fzcwn6DsTcQw"
      }
    },
    {
      "cell_type": "code",
      "source": [
        "num = int(input(\"Numero: \"))\n",
        "for item in range(1, 11):\n",
        "  print(num, 'x', item, '=', num*item)"
      ],
      "metadata": {
        "id": "A1wW1N9wTjrQ",
        "colab": {
          "base_uri": "https://localhost:8080/"
        },
        "outputId": "a8328ddb-aeb3-46d6-942a-5ea13219d7e8"
      },
      "execution_count": null,
      "outputs": [
        {
          "output_type": "stream",
          "name": "stdout",
          "text": [
            "Numero: 20\n",
            "20 x 1 = 20\n",
            "20 x 2 = 40\n",
            "20 x 3 = 60\n",
            "20 x 4 = 80\n",
            "20 x 5 = 100\n",
            "20 x 6 = 120\n",
            "20 x 7 = 140\n",
            "20 x 8 = 160\n",
            "20 x 9 = 180\n",
            "20 x 10 = 200\n"
          ]
        }
      ]
    },
    {
      "cell_type": "code",
      "source": [
        "num = int(input(\"Numero: \"))\n",
        "count = 1\n",
        "\n",
        "while count <= 10:\n",
        "  num = num * 1\n",
        "  print(num, 'x', count, '=', num * count)\n",
        "  count += 1"
      ],
      "metadata": {
        "id": "CXT651GTSZiC",
        "colab": {
          "base_uri": "https://localhost:8080/"
        },
        "outputId": "28cdd36a-3edb-4d84-c51f-31c7ab073a04"
      },
      "execution_count": null,
      "outputs": [
        {
          "output_type": "stream",
          "name": "stdout",
          "text": [
            "Numero: 4\n",
            "4 x 1 = 4\n",
            "4 x 2 = 8\n",
            "4 x 3 = 12\n",
            "4 x 4 = 16\n",
            "4 x 5 = 20\n",
            "4 x 6 = 24\n",
            "4 x 7 = 28\n",
            "4 x 8 = 32\n",
            "4 x 9 = 36\n",
            "4 x 10 = 40\n"
          ]
        }
      ]
    },
    {
      "cell_type": "code",
      "source": [
        "def calcular_deducciones(sueldo):\n",
        "    # Deducción ISSS\n",
        "    deduccion_isss = sueldo * 0.03\n",
        "\n",
        "    # Deducción AFP\n",
        "    deduccion_afp = sueldo * 0.0625\n",
        "\n",
        "    # Deducción ISR\n",
        "    deduccion_isr = 0\n",
        "    tabla_isr = [\n",
        "        [0.01, 472, 0, 0],\n",
        "        [472.01, 895.24, 0.1, 17.67],\n",
        "        [895.25, 2038.1, 0.2, 60.00],\n",
        "        [2038.11, 9999999, 0.3, 288.57]\n",
        "    ]\n",
        "\n",
        "    for rango in tabla_isr:\n",
        "        if sueldo >= rango[0] and sueldo <= rango[1]:\n",
        "            deduccion_isr = (sueldo - rango[0] + 1) * rango[2] + rango[3]\n",
        "            break\n",
        "\n",
        "    # Suma de deducciones\n",
        "    total_deducciones = deduccion_isss + deduccion_afp + deduccion_isr\n",
        "\n",
        "    # Calculo de sueldo neto\n",
        "    sueldo_neto = sueldo - total_deducciones\n",
        "\n",
        "    return total_deducciones, sueldo_neto\n",
        "\n",
        "# Obtener el sueldo del usuario\n",
        "sueldo = float(input(\"Ingrese el sueldo: \"))\n",
        "\n",
        "total_deducciones, sueldo_neto = calcular_deducciones(sueldo)\n",
        "\n",
        "# Imprimir resultados\n",
        "print(f\"Total deducciones: ${total_deducciones:.2f}\")\n",
        "print(f\"Sueldo neto: ${sueldo_neto:.2f}\")\n"
      ],
      "metadata": {
        "id": "zUlllE19Z-Fr",
        "colab": {
          "base_uri": "https://localhost:8080/"
        },
        "outputId": "49ad4ea8-bce1-4545-fb0a-1289746763e5"
      },
      "execution_count": null,
      "outputs": [
        {
          "output_type": "stream",
          "name": "stdout",
          "text": [
            "Ingrese el sueldo: 209.67\n",
            "Total deducciones: $19.39\n",
            "Sueldo neto: $190.28\n"
          ]
        }
      ]
    },
    {
      "cell_type": "code",
      "source": [
        "def sueldo(numHrs, valorXhr):\n",
        "    sueldo_base = numHrs * valorXhr * 30\n",
        "    if numHrs > 8:\n",
        "        horas_extras = numHrs - 8\n",
        "        sueldo_base += horas_extras * valorXhr * 2 * 30\n",
        "    return sueldo_base\n",
        "\n",
        "tabla_isr = [\n",
        "    [0.01, 472, 0, 0],\n",
        "    [472.01, 895.24, 0.1, 17.67],\n",
        "    [895.25, 2038.1, 0.2, 60.00],\n",
        "    [2038.11, 9999999, 0.3, 288.57]\n",
        "]\n",
        "\n",
        "def calcularIsr(sueldo):\n",
        "    impSr = 0\n",
        "    for tramo in tabla_isr:\n",
        "        if sueldo >= tramo[0] and sueldo <= tramo[1]:\n",
        "            impSr = (sueldo - tramo[0]) * tramo[2] + tramo[3]\n",
        "            return impSr\n",
        "    return impSr\n",
        "\n",
        "valorXhr = 1.45\n",
        "numHrs = float(input(\"Horas trabajadas: \"))\n",
        "\n",
        "sueldo_bruto = sueldo(numHrs, valorXhr)\n",
        "isss = sueldo_bruto * 0.03\n",
        "afp = sueldo_bruto * 0.0625\n",
        "sueldo_neto = sueldo_bruto - isss - afp\n",
        "impSr = calcularIsr(sueldo_bruto)\n",
        "sueldo_neto -= impSr\n",
        "\n",
        "print(\"Sueldo Bruto:\", sueldo_bruto)\n",
        "print(\"ISSS:\", isss)\n",
        "print(\"AFP:\", afp)\n",
        "print(\"ISR:\", impSr)\n",
        "print(\"Total Deducciones:\", isss + afp + impSr)\n",
        "print(\"Sueldo Neto:\", sueldo_neto)\n"
      ],
      "metadata": {
        "id": "2c1xmh6gaqcC",
        "colab": {
          "base_uri": "https://localhost:8080/"
        },
        "outputId": "73fabe98-bd6c-4cb1-d941-726f6aa6b1ed"
      },
      "execution_count": null,
      "outputs": [
        {
          "output_type": "stream",
          "name": "stdout",
          "text": [
            "Horas trabajadas: 10\n",
            "Sueldo Bruto: 609.0\n",
            "ISSS: 18.27\n",
            "AFP: 38.0625\n",
            "ISR: 31.369000000000003\n",
            "Total Deducciones: 87.7015\n",
            "Sueldo Neto: 521.2985\n"
          ]
        }
      ]
    },
    {
      "cell_type": "code",
      "source": [
        "def acumulacion_meses(n):\n",
        "    return n * (n + 1) // 2\n",
        "\n",
        "meses = int(input(\"Hasta cuántos meses quieres calcular? \"))\n",
        "\n",
        "print(\"MESES\", \" \" * 10, \"ACUMULACION\")\n",
        "for i in range(1, meses + 1):\n",
        "    print(i, \" \" * (15 - len(str(i))), acumulacion_meses(i))"
      ],
      "metadata": {
        "id": "TcYc2NOB0Nn_",
        "colab": {
          "base_uri": "https://localhost:8080/"
        },
        "outputId": "756f22bd-a2a2-47f9-b83d-19c819c22e15"
      },
      "execution_count": null,
      "outputs": [
        {
          "output_type": "stream",
          "name": "stdout",
          "text": [
            "Hasta cuántos meses quieres calcular? 4\n",
            "MESES            ACUMULACION\n",
            "1                1\n",
            "2                3\n",
            "3                6\n",
            "4                10\n"
          ]
        }
      ]
    },
    {
      "cell_type": "code",
      "source": [
        "def caja_a_unidad(cajas):\n",
        "    return cajas * 25\n",
        "\n",
        "def unidad_a_caja(unidades):\n",
        "    cajas_completas = unidades // 25\n",
        "    unidades_restantes = unidades % 25\n",
        "    return f\"{cajas_completas} cajas y {unidades_restantes} unidades\"\n",
        "\n",
        "def saco_a_libra(sacos):\n",
        "    return sacos * 50\n",
        "\n",
        "def libra_a_saco(libras):\n",
        "    sacos_completos = libras // 50\n",
        "    libras_restantes = libras % 50\n",
        "    return f\"{sacos_completos} sacos y {libras_restantes} libras\"\n",
        "\n",
        "def fardo_a_unidad(fardos):\n",
        "    return fardos * 5\n",
        "\n",
        "def unidad_a_fardo(unidades):\n",
        "    fardos_completos = unidades // 5\n",
        "    unidades_restantes = unidades % 5\n",
        "    return f\"{fardos_completos} fardos y {unidades_restantes} unidades\"\n",
        "\n",
        "# Pruebas\n",
        "print(caja_a_unidad(1))         # 25\n",
        "print(unidad_a_caja(80))       # \"3 cajas y 5 unidades\"\n",
        "print(saco_a_libra(1))         # 50\n",
        "print(libra_a_saco(130))       # \"2 sacos y 30 libras\"\n",
        "print(fardo_a_unidad(1))       # 5\n",
        "print(unidad_a_fardo(28))      # \"5 fardos y 3 unidades\"\n"
      ],
      "metadata": {
        "id": "20X0oHPr06si",
        "colab": {
          "base_uri": "https://localhost:8080/"
        },
        "outputId": "0399a98b-d828-4626-8834-8b74afbfe94a"
      },
      "execution_count": null,
      "outputs": [
        {
          "output_type": "stream",
          "name": "stdout",
          "text": [
            "25\n",
            "3 cajas y 5 unidades\n",
            "50\n",
            "2 sacos y 30 libras\n",
            "5\n",
            "5 fardos y 3 unidades\n"
          ]
        }
      ]
    },
    {
      "cell_type": "code",
      "source": [
        "def caja_a_unidad(cajas):\n",
        "    return cajas * 25\n",
        "\n",
        "def unidad_a_caja(unidades):\n",
        "    cajas_completas = unidades // 25\n",
        "    unidades_restantes = unidades % 25\n",
        "    return f\"{cajas_completas} cajas y {unidades_restantes} unidades\"\n",
        "\n",
        "def saco_a_libra(sacos):\n",
        "    return sacos * 50\n",
        "\n",
        "def libra_a_saco(libras):\n",
        "    sacos_completos = libras // 50\n",
        "    libras_restantes = libras % 50\n",
        "    return f\"{sacos_completos} sacos y {libras_restantes} libras\"\n",
        "\n",
        "def fardo_a_unidad(fardos):\n",
        "    return fardos * 5\n",
        "\n",
        "def unidad_a_fardo(unidades):\n",
        "    fardos_completos = unidades // 5\n",
        "    unidades_restantes = unidades % 5\n",
        "    return f\"{fardos_completos} fardos y {unidades_restantes} unidades\"\n",
        "\n",
        "def main():\n",
        "    while True:\n",
        "        print(\"\\nConversor:\")\n",
        "        print(\"1. Caja a Unidad\")\n",
        "        print(\"2. Unidad a Caja\")\n",
        "        print(\"3. Saco a Libra\")\n",
        "        print(\"4. Libra a Saco\")\n",
        "        print(\"5. Fardo a Unidad\")\n",
        "        print(\"6. Unidad a Fardo\")\n",
        "        print(\"7. Salir\")\n",
        "        opcion = int(input(\"Selecciona una opción: \"))\n",
        "\n",
        "        if opcion == 1:\n",
        "            cajas = float(input(\"Ingresa número de cajas: \"))\n",
        "            print(f\"{cajas} cajas son {caja_a_unidad(cajas)} unidades\")\n",
        "        elif opcion == 2:\n",
        "            unidades = float(input(\"Ingresa número de unidades: \"))\n",
        "            print(unidad_a_caja(unidades))\n",
        "        elif opcion == 3:\n",
        "            sacos = float(input(\"Ingresa número de sacos: \"))\n",
        "            print(f\"{sacos} sacos son {saco_a_libra(sacos)} libras\")\n",
        "        elif opcion == 4:\n",
        "            libras = float(input(\"Ingresa número de libras: \"))\n",
        "            print(libra_a_saco(libras))\n",
        "        elif opcion == 5:\n",
        "            fardos = float(input(\"Ingresa número de fardos: \"))\n",
        "            print(f\"{fardos} fardos son {fardo_a_unidad(fardos)} unidades\")\n",
        "        elif opcion == 6:\n",
        "            unidades = float(input(\"Ingresa número de unidades: \"))\n",
        "            print(unidad_a_fardo(unidades))\n",
        "        elif opcion == 7:\n",
        "            print(\"Hasta luego!\")\n",
        "            break\n",
        "        else:\n",
        "            print(\"Opción no válida. Intenta de nuevo.\")\n",
        "\n",
        "if __name__ == \"__main__\":\n",
        "    main()\n"
      ],
      "metadata": {
        "id": "rgHt2o371OqR",
        "colab": {
          "base_uri": "https://localhost:8080/"
        },
        "outputId": "c90e8381-c484-4a20-fa7f-1ba00aa4f872"
      },
      "execution_count": null,
      "outputs": [
        {
          "output_type": "stream",
          "name": "stdout",
          "text": [
            "\n",
            "Conversor:\n",
            "1. Caja a Unidad\n",
            "2. Unidad a Caja\n",
            "3. Saco a Libra\n",
            "4. Libra a Saco\n",
            "5. Fardo a Unidad\n",
            "6. Unidad a Fardo\n",
            "7. Salir\n",
            "Selecciona una opción: 1\n",
            "Ingresa número de cajas: 7\n",
            "7.0 cajas son 175.0 unidades\n",
            "\n",
            "Conversor:\n",
            "1. Caja a Unidad\n",
            "2. Unidad a Caja\n",
            "3. Saco a Libra\n",
            "4. Libra a Saco\n",
            "5. Fardo a Unidad\n",
            "6. Unidad a Fardo\n",
            "7. Salir\n",
            "Selecciona una opción: 5\n",
            "Ingresa número de fardos: 12\n",
            "12.0 fardos son 60.0 unidades\n",
            "\n",
            "Conversor:\n",
            "1. Caja a Unidad\n",
            "2. Unidad a Caja\n",
            "3. Saco a Libra\n",
            "4. Libra a Saco\n",
            "5. Fardo a Unidad\n",
            "6. Unidad a Fardo\n",
            "7. Salir\n",
            "Selecciona una opción: 7\n",
            "Hasta luego!\n"
          ]
        }
      ]
    },
    {
      "cell_type": "markdown",
      "source": [
        "**Escribir un programa que pida la nota de un examen (0-10), e imprima por pantalla la calificacion en formato: \"Suspenso\" si la nota es menor a 5, \"Aprobado\" si es entre 5 inclusive, y 7 sin incluir, \"Notable\" si esta entre 7 inclusive y 9 sin incluir, \"Sobresaliente\" si esta entre 9 inclusive y 10 sin incluir, y \"Honorable\" si es 10**"
      ],
      "metadata": {
        "id": "itCiWZVl-gvW"
      }
    },
    {
      "cell_type": "code",
      "source": [
        "nota = float(input(\"Ingresa la nota del examen: \"))\n",
        "\n",
        "if nota >= 0 and nota < 5:\n",
        "  print(\"Suspenso\")\n",
        "elif nota >= 5 and nota < 7:\n",
        "  print(\"Aprobado\")\n",
        "elif nota >= 7 and nota < 9:\n",
        "  print(\"Notable\")\n",
        "elif nota >= 9 and nota < 10:\n",
        "  print(\"Sobresaliente\")\n",
        "elif nota == 10:\n",
        "  print(\"Honorable\")\n",
        "else:\n",
        "  print(\"La calificación no puede ser menor que 0 o mayor que 10\")"
      ],
      "metadata": {
        "id": "EZr87T6GNHJ_",
        "colab": {
          "base_uri": "https://localhost:8080/"
        },
        "outputId": "bbec7ad1-3a78-4310-cd5b-a2b9c064280d"
      },
      "execution_count": null,
      "outputs": [
        {
          "output_type": "stream",
          "name": "stdout",
          "text": [
            "Ingresa la nota del examen: 3.3\n",
            "Suspenso\n"
          ]
        }
      ]
    },
    {
      "cell_type": "code",
      "source": [
        "nota = float(input(\"Nota: \"))\n",
        "if(nota<0 or nota >10):\n",
        "  print(\"Nota invalida\")\n",
        "elif(nota<5):\n",
        "  print(\"SUSPENSO\")\n",
        "elif(nota<7):\n",
        "  print(\"APROBADO\")\n",
        "elif(nota<9):\n",
        "  print(\"NOTABLE\")\n",
        "elif(nota<10):\n",
        "  print(\"SOBRESALIENTE\")\n",
        "else:\n",
        "  print(\"HONORABLE\")"
      ],
      "metadata": {
        "id": "WWV07szXR-hB",
        "colab": {
          "base_uri": "https://localhost:8080/"
        },
        "outputId": "045ea71e-22ad-44b4-9dac-87e99c8ce0ac"
      },
      "execution_count": null,
      "outputs": [
        {
          "output_type": "stream",
          "name": "stdout",
          "text": [
            "Nota: 10\n",
            "HONORABLE\n"
          ]
        }
      ]
    },
    {
      "cell_type": "markdown",
      "source": [
        "Escriba un programa que muestre la secuencia fibonacci"
      ],
      "metadata": {
        "id": "WV8IEQ-N_KVB"
      }
    },
    {
      "cell_type": "code",
      "source": [
        "limit = int(input(\"Limit: \"))\n",
        "a=0\n",
        "b=1\n",
        "c=0\n",
        "while c<limit:\n",
        "  c=a+b\n",
        "  print(a,\"+\",b,\"=\", c)\n",
        "  b=a\n",
        "  a=c"
      ],
      "metadata": {
        "id": "iLrqprgUZGtf",
        "colab": {
          "base_uri": "https://localhost:8080/"
        },
        "outputId": "d3153026-6709-4e4e-be47-d80720f3f734"
      },
      "execution_count": null,
      "outputs": [
        {
          "output_type": "stream",
          "name": "stdout",
          "text": [
            "Limit: 5\n",
            "0 + 1 = 1\n",
            "1 + 0 = 1\n",
            "1 + 1 = 2\n",
            "2 + 1 = 3\n",
            "3 + 2 = 5\n"
          ]
        }
      ]
    },
    {
      "cell_type": "markdown",
      "source": [
        "PROGRAMACION ORIENTADA A OBJETOS.\n",
        "\n",
        "* CLASE"
      ],
      "metadata": {
        "id": "JvIOkPSQ_iix"
      }
    },
    {
      "cell_type": "code",
      "source": [
        "class Calculadora:\n",
        "  def sumar(self, num1, num2):\n",
        "    return num1 + num2"
      ],
      "metadata": {
        "id": "g8D8gmhkJbAT"
      },
      "execution_count": null,
      "outputs": []
    },
    {
      "cell_type": "markdown",
      "source": [
        "* Instancia de una clase"
      ],
      "metadata": {
        "id": "aYC_lce7RT86"
      }
    },
    {
      "cell_type": "code",
      "source": [
        "objCalculadora = Calculadora()"
      ],
      "metadata": {
        "id": "l4g4xfHlRWjI"
      },
      "execution_count": null,
      "outputs": []
    },
    {
      "cell_type": "markdown",
      "source": [
        "* Objeto"
      ],
      "metadata": {
        "id": "TWR9MxcGRcUD"
      }
    },
    {
      "cell_type": "code",
      "source": [
        "print (\"La suma de 5 + 3 = \", objCalculadora.sumar(5,3))"
      ],
      "metadata": {
        "colab": {
          "base_uri": "https://localhost:8080/"
        },
        "id": "7zjL92O2Rd2e",
        "outputId": "f60bf2b3-a865-43e4-b0e0-06dff081b923"
      },
      "execution_count": null,
      "outputs": [
        {
          "output_type": "stream",
          "name": "stdout",
          "text": [
            "La suma de 5 + 3 =  8\n"
          ]
        }
      ]
    },
    {
      "cell_type": "markdown",
      "source": [
        "# Ejercicios - Tareas\n"
      ],
      "metadata": {
        "id": "oExwY0tA_4nA"
      }
    },
    {
      "cell_type": "markdown",
      "source": [
        "Calcular sobre el sueldo las deducciones por ley ISSS (3%), AFP (6.25%), ISR (Según tabla) e imprima el total deducciones y sueldo neto."
      ],
      "metadata": {
        "id": "qngiL3AKAE-n"
      }
    },
    {
      "cell_type": "code",
      "source": [
        "def sueldo(numHrs, valorXhr):\n",
        "  sueldo = numHrs*valorXhr*30\n",
        "  if(numHrs>8):\n",
        "    sueldo += (numHrs-8)*valorXhr*2*30\n",
        "  #isss + afp = 3 + 6.25 = 9.25 = 100 - 9.25 = 90.75/100 = 0.09075\n",
        "  #sueldo = sueldo*0.9075\n",
        "  return sueldo"
      ],
      "metadata": {
        "id": "h7LUjIIntRX5"
      },
      "execution_count": null,
      "outputs": []
    },
    {
      "cell_type": "code",
      "source": [
        "tabla_isr = [\n",
        "    [0.01, 472, 0, 0],\n",
        "    [472.01, 895.24, 0.1, 17.67],\n",
        "    [895.25, 2038.1, 0.2, 60.00],\n",
        "    [2038.11, 9999999, 0.3, 288.57]\n",
        "]"
      ],
      "metadata": {
        "id": "vhGaqObQtTs3"
      },
      "execution_count": null,
      "outputs": []
    },
    {
      "cell_type": "code",
      "source": [
        "def calcularIsr(sueldo, sueldoNeto):\n",
        "  impSr = 0\n",
        "  for tramo in tabla_isr:\n",
        "    if sueldo>tramo[0] and sueldo<=tramo[1]:\n",
        "      impSr = (sueldoNeto-tramo[0])*tramo[2] +tramo [3]\n",
        "  return impSr"
      ],
      "metadata": {
        "id": "nFpWwTWutVxE"
      },
      "execution_count": null,
      "outputs": []
    },
    {
      "cell_type": "code",
      "source": [
        "valorXhr = 4\n",
        "#isss = 3%\n",
        "#afp = 6.25%\n",
        "numHrs = float(input(\"Horas trabajadas: \"))\n",
        "s = sueldo(numHrs, valorXhr)\n",
        "isr = calcularIsr(s, s*0.9075)\n",
        "print(\"Sueldo: \", s, \"ISR: \", isr, s*0.9075-isr)"
      ],
      "metadata": {
        "colab": {
          "base_uri": "https://localhost:8080/"
        },
        "id": "PeTsq74NtZ7w",
        "outputId": "f17758da-c7ba-4870-ab0b-79e23215828d"
      },
      "execution_count": null,
      "outputs": [
        {
          "output_type": "stream",
          "name": "stdout",
          "text": [
            "Horas trabajadas: 9\n",
            "Sueldo:  1320.0 ISR:  120.52999999999997 1077.37\n"
          ]
        }
      ]
    },
    {
      "cell_type": "markdown",
      "source": [
        "Calcular el valor a pagar según el número de metros consumidos de agua potable"
      ],
      "metadata": {
        "id": "bXFVB0r0AQzx"
      }
    },
    {
      "cell_type": "code",
      "source": [
        "def calcular_pago(metros_consumidos):\n",
        "    # Cuota fija\n",
        "    if metros_consumidos <= 18:\n",
        "        return 6\n",
        "\n",
        "    # Si el consumo es entre 19 y 28 metros\n",
        "    elif metros_consumidos <= 28:\n",
        "        exceso_18 = metros_consumidos - 18\n",
        "        valor_exceso = exceso_18 * 0.45\n",
        "        return 6 + valor_exceso\n",
        "\n",
        "    # Si el consumo es de 29 metros en adelante\n",
        "    else:\n",
        "        exceso_28 = metros_consumidos - 28\n",
        "        valor_exceso_28 = exceso_28 * 0.65\n",
        "\n",
        "        exceso_18 = 28 - 18\n",
        "        valor_exceso_18 = exceso_18 * 0.45\n",
        "\n",
        "        return 6 + valor_exceso_18 + valor_exceso_28\n",
        "\n",
        "# Solicitar el número de metros consumidos\n",
        "metros = int(input(\"Introduce el número de metros consumidos: \"))\n",
        "\n",
        "# Calcular el valor a pagar\n",
        "valor_a_pagar = calcular_pago(metros)\n",
        "\n",
        "# Mostrar el resultado\n",
        "print(f\"Valor a pagar: ${valor_a_pagar:.2f}\")"
      ],
      "metadata": {
        "colab": {
          "base_uri": "https://localhost:8080/"
        },
        "id": "Z332u9qrvItB",
        "outputId": "2d8cda66-2fe3-46c5-f371-3407fa6d3d55"
      },
      "execution_count": null,
      "outputs": [
        {
          "output_type": "stream",
          "name": "stdout",
          "text": [
            "Introduce el número de metros consumidos: 40\n",
            "Valor a pagar: $18.30\n"
          ]
        }
      ]
    },
    {
      "cell_type": "markdown",
      "source": [
        "Desarrolle la tabla de meses acumulados a n meses. Si puede encontrar la formula matemática para evitar ciclos."
      ],
      "metadata": {
        "id": "S1hyCDQAA7aQ"
      }
    },
    {
      "cell_type": "code",
      "source": [
        "def suma_hasta_n(n):\n",
        "    return n * (n + 1) // 2\n",
        "\n",
        "try:\n",
        "    n = int(input(\"Introduce el número de meses para calcular la acumulación: \"))\n",
        "\n",
        "    if n <= 0:\n",
        "        print(\"El número de meses debe ser mayor que cero.\")\n",
        "    else:\n",
        "        acumulacion = suma_hasta_n(n)\n",
        "        print(f\"La acumulación de meses hasta el mes {n} es {acumulacion}.\")\n",
        "\n",
        "except ValueError:\n",
        "    print(\"Por favor, introduce un número válido.\")"
      ],
      "metadata": {
        "colab": {
          "base_uri": "https://localhost:8080/"
        },
        "id": "A2Sbtv5TyG52",
        "outputId": "38e0f59b-c6ab-49a9-e79d-87acd28b09f9"
      },
      "execution_count": null,
      "outputs": [
        {
          "output_type": "stream",
          "name": "stdout",
          "text": [
            "Introduce el número de meses para calcular la acumulación: 24\n",
            "La acumulación de meses hasta el mes 24 es 300.\n"
          ]
        }
      ]
    },
    {
      "cell_type": "code",
      "source": [
        "def suma_hasta_n(n):\n",
        "    return n * (n + 1) // 2\n",
        "\n",
        "try:\n",
        "    n = int(input(\"Introduce el número de meses para calcular la acumulación: \"))\n",
        "\n",
        "    if n <= 0:\n",
        "        print(\"El número de meses debe ser mayor que cero.\")\n",
        "    else:\n",
        "        print(\"MESES ------- ACUMULACION\")\n",
        "\n",
        "        acumulacion = 0\n",
        "        for i in range(1, n + 1):\n",
        "            acumulacion += i\n",
        "            print(f\"{i} ------- {i} + {acumulacion - i} = {acumulacion}\")\n",
        "\n",
        "except ValueError:\n",
        "    print(\"Por favor, introduce un número válido.\")\n"
      ],
      "metadata": {
        "colab": {
          "base_uri": "https://localhost:8080/"
        },
        "id": "RD1eBjTKWmTV",
        "outputId": "8a691fd3-82d6-46e4-f637-01fd81874e98"
      },
      "execution_count": null,
      "outputs": [
        {
          "output_type": "stream",
          "name": "stdout",
          "text": [
            "Introduce el número de meses para calcular la acumulación: 7\n",
            "MESES ------- ACUMULACION\n",
            "1 ------- 1 + 0 = 1\n",
            "2 ------- 2 + 1 = 3\n",
            "3 ------- 3 + 3 = 6\n",
            "4 ------- 4 + 6 = 10\n",
            "5 ------- 5 + 10 = 15\n",
            "6 ------- 6 + 15 = 21\n",
            "7 ------- 7 + 21 = 28\n"
          ]
        }
      ]
    },
    {
      "cell_type": "markdown",
      "source": [
        "Conversores: (40%) (10 ítems como mínimo por cada uno)\n",
        "Monedas (Resuelto en clases)\n",
        "Longitud\n",
        "Masa\n",
        "Almacenamiento\n",
        "Tiempo\n",
        "Volumen\n",
        "Área"
      ],
      "metadata": {
        "id": "9tSAU7yfBMSE"
      }
    },
    {
      "cell_type": "markdown",
      "source": [
        "* monedas"
      ],
      "metadata": {
        "id": "ZDg3H3kDMwKi"
      }
    },
    {
      "cell_type": "code",
      "execution_count": null,
      "metadata": {
        "id": "AIlMLL7cilHk",
        "colab": {
          "base_uri": "https://localhost:8080/"
        },
        "outputId": "36b0ac28-e277-4796-ae4c-f1f6238a6375"
      },
      "outputs": [
        {
          "output_type": "stream",
          "name": "stdout",
          "text": [
            "Monedas disponibles:\n",
            "usd\n",
            "mxn\n",
            "eur\n",
            "btc\n",
            "Quetzal\n",
            "ColonCosta\n",
            "Yen\n",
            "Arg\n",
            "Sol\n",
            "Rublo\n",
            "Moneda origen: usd\n",
            "Moneda destino: eur\n",
            "Ingresa la cantidad de usd: 100\n",
            "100.00 usd equivale a 91.00 eur.\n"
          ]
        }
      ],
      "source": [
        "monedas_con_equivalencias = {\n",
        "    \"usd\": 1,\n",
        "    \"mxn\": 17.01,\n",
        "    \"eur\": 0.91,\n",
        "    \"btc\": 0.000088,\n",
        "    \"Quetzal\": 7.89,\n",
        "    \"ColonCosta\": 536.55,\n",
        "    \"Yen\": 144.91,\n",
        "    \"Arg\": 286.87,\n",
        "    \"Sol\": 3.66,\n",
        "    \"Rublo\": 100\n",
        "\n",
        "}\n",
        "print(\"Monedas disponibles:\")\n",
        "for moneda in monedas_con_equivalencias:\n",
        "    print(moneda)\n",
        "\n",
        "nombre_moneda_origen = \"\"\n",
        "nombre_moneda_destino = \"\"\n",
        "while nombre_moneda_origen not in monedas_con_equivalencias:\n",
        "    nombre_moneda_origen = input(\"Moneda origen: \")\n",
        "\n",
        "while nombre_moneda_destino not in monedas_con_equivalencias:\n",
        "    nombre_moneda_destino = input(\"Moneda destino: \")\n",
        "\n",
        "\n",
        "cantidad = float(input(f\"Ingresa la cantidad de {nombre_moneda_origen}: \"))\n",
        "equivalencia_origen = monedas_con_equivalencias[nombre_moneda_origen]\n",
        "equivalencia_destino = monedas_con_equivalencias[nombre_moneda_destino]\n",
        "equivalencia = (equivalencia_destino/equivalencia_origen)*cantidad\n",
        "print(f\"{cantidad:.2f} {nombre_moneda_origen} equivale a {equivalencia:.2f} {nombre_moneda_destino}.\")"
      ]
    },
    {
      "cell_type": "markdown",
      "source": [
        "* Longitud"
      ],
      "metadata": {
        "id": "7EEaZyUdM6Sa"
      }
    },
    {
      "cell_type": "code",
      "source": [
        "Longitudes = {\n",
        "    \"Centimetros\": 100,\n",
        "    \"Metros\": 1,\n",
        "    \"Pulgadas\": 39.3701,\n",
        "    \"Yardas\": 1.09361,\n",
        "    \"Pies\": 3.28084,\n",
        "    \"Milimetros\": 1000,\n",
        "    \"Kilometros\": 0.001,\n",
        "    \"Decimetros\": 10\n",
        "}"
      ],
      "metadata": {
        "id": "oCs9T3Bbi0ux"
      },
      "execution_count": null,
      "outputs": []
    },
    {
      "cell_type": "code",
      "source": [
        "print(\"Longitudes disponibles:\")\n",
        "for longitudes in Longitudes:\n",
        "    print(longitudes)\n",
        "\n",
        "nombre_de_longitud = \"\"\n",
        "nombre_longitud_a_convertir = \"\"\n",
        "while nombre_de_longitud not in Longitudes:\n",
        "    nombre_de_longitud = input(\"Longitud 1: \")\n",
        "\n",
        "while nombre_longitud_a_convertir not in Longitudes:\n",
        "    nombre_longitud_a_convertir = input(\"Longitud 2: \")\n",
        "\n",
        "\n",
        "cantidad = float(input(f\"Ingresa la cantidad de {nombre_de_longitud}: \"))\n",
        "equivalencia_origen = Longitudes[nombre_de_longitud]\n",
        "equivalencia_destino = Longitudes[nombre_longitud_a_convertir]\n",
        "equivalencia = (equivalencia_destino/equivalencia_origen)*cantidad\n",
        "print(f\"{cantidad:.2f} {nombre_de_longitud} equivale a {equivalencia:.2f} {nombre_longitud_a_convertir}.\")"
      ],
      "metadata": {
        "id": "31oqsmuti2tx",
        "colab": {
          "base_uri": "https://localhost:8080/"
        },
        "outputId": "2731fe80-da9f-4583-ab1a-7dcba8a695fb"
      },
      "execution_count": null,
      "outputs": [
        {
          "output_type": "stream",
          "name": "stdout",
          "text": [
            "Longitudes disponibles:\n",
            "Centimetros\n",
            "Metros\n",
            "Pulgadas\n",
            "Yardas\n",
            "Pies\n",
            "Milimetros\n",
            "Kilometros\n",
            "Decimetros\n",
            "Longitud 1: Metros\n",
            "Longitud 2: Centimetros\n",
            "Ingresa la cantidad de Metros: 207\n",
            "207.00 Metros equivale a 20700.00 Centimetros.\n"
          ]
        }
      ]
    },
    {
      "cell_type": "markdown",
      "source": [
        "* Masas"
      ],
      "metadata": {
        "id": "i83WyCMjNj5x"
      }
    },
    {
      "cell_type": "code",
      "source": [
        "Masas = {\n",
        "    \"Gramo\": 1,\n",
        "    \"Decigramo\": 0.1,\n",
        "    \"Centigramo\": 0.01,\n",
        "    \"Miligramo\": 0.001,\n",
        "    \"Decagramo\": 10,\n",
        "    \"Hectogramo\": 100,\n",
        "    \"Kilogramo\": 1000\n",
        "}"
      ],
      "metadata": {
        "id": "AL78ovWOi6uL"
      },
      "execution_count": null,
      "outputs": []
    },
    {
      "cell_type": "code",
      "source": [
        "print(\"Masas Disponibles:\")\n",
        "for masas in Masas:\n",
        "    print(masas)\n",
        "\n",
        "nombre_de_masa = \"\"\n",
        "nombre_masa_a_convertir = \"\"\n",
        "while nombre_de_masa not in Masas:\n",
        "    nombre_de_masa = input(\"Masa 1: \")\n",
        "\n",
        "while nombre_masa_a_convertir not in Masas:\n",
        "    nombre_masa_a_convertir = input(\"Masa 2: \")\n",
        "\n",
        "\n",
        "cantidad = float(input(f\"Ingresa la cantidad de {nombre_de_masa}: \"))\n",
        "equivalencia_origen = Masas[nombre_de_masa]\n",
        "equivalencia_destino = Masas[nombre_masa_a_convertir]\n",
        "equivalencia = (equivalencia_destino/equivalencia_origen)*cantidad\n",
        "print(f\"{cantidad:.2f} {nombre_de_masa} equivale a {equivalencia:.2f} {nombre_masa_a_convertir}.\")"
      ],
      "metadata": {
        "id": "r0zeidsxi7gq",
        "colab": {
          "base_uri": "https://localhost:8080/"
        },
        "outputId": "976032ce-1c1c-4b6a-b15f-7abe510e865c"
      },
      "execution_count": null,
      "outputs": [
        {
          "output_type": "stream",
          "name": "stdout",
          "text": [
            "Masas Disponibles:\n",
            "Gramo\n",
            "Decigramo\n",
            "Centigramo\n",
            "Miligramo\n",
            "Decagramo\n",
            "Hectogramo\n",
            "Kilogramo\n",
            "Masa 1: Gramo\n",
            "Masa 2: Kilogramo\n",
            "Ingresa la cantidad de Gramo: 35\n",
            "35.00 Gramo equivale a 35000.00 Kilogramo.\n"
          ]
        }
      ]
    },
    {
      "cell_type": "markdown",
      "source": [
        "Realizar un conversor propio, donde especifique el valor de conversión:\n",
        "1 caja -> 25 unidad. Viceversa 80 unidades – 3/5 -> cajas/unidades\n",
        "1 saco -> 50 libras. Viceversa 130 libras – 2/30 -> sacos/libras\n",
        "1 fardo -> 5 unidades. Viceversa 28 unidades – 5/3 -> fardos/unidades"
      ],
      "metadata": {
        "id": "qBrYGc0hBRpZ"
      }
    },
    {
      "cell_type": "code",
      "source": [
        "def convertir_cajas(unidades, a_cajas=True):\n",
        "    if a_cajas:\n",
        "        return unidades / 25, unidades % 25\n",
        "    else:\n",
        "        return unidades * 25\n",
        "\n",
        "def convertir_sacos(libras, a_sacos=True):\n",
        "    if a_sacos:\n",
        "        return libras / 50, libras % 50\n",
        "    else:\n",
        "        return libras * 50\n",
        "\n",
        "def convertir_fardos(unidades, a_fardos=True):\n",
        "    if a_fardos:\n",
        "        return unidades / 5, unidades % 5\n",
        "    else:\n",
        "        return unidades * 5\n",
        "\n",
        "while True:\n",
        "    print(\"Conversor de Unidades\")\n",
        "    print(\"1. Cajas a unidades\")\n",
        "    print(\"2. Unidades a cajas\")\n",
        "    print(\"3. Sacos a libras\")\n",
        "    print(\"4. Libras a sacos\")\n",
        "    print(\"5. Fardos a unidades\")\n",
        "    print(\"6. Unidades a fardos\")\n",
        "\n",
        "    opcion = input(\"Seleccione una opción: \")\n",
        "\n",
        "    cantidad = float(input(\"Ingrese la cantidad para convertir: \"))\n",
        "\n",
        "    if opcion == '1':\n",
        "        print(f\"{cantidad} cajas son {convertir_cajas(cantidad, False)} unidades.\")\n",
        "    elif opcion == '2':\n",
        "        cajas, unidades = convertir_cajas(cantidad)\n",
        "        print(f\"{cantidad} unidades son {int(cajas)} cajas y {int(unidades)} unidades.\")\n",
        "    elif opcion == '3':\n",
        "        print(f\"{cantidad} sacos son {convertir_sacos(cantidad, False)} libras.\")\n",
        "    elif opcion == '4':\n",
        "        sacos, libras = convertir_sacos(cantidad)\n",
        "        print(f\"{cantidad} libras son {int(sacos)} sacos y {int(libras)} libras.\")\n",
        "    elif opcion == '5':\n",
        "        print(f\"{cantidad} fardos son {convertir_fardos(cantidad, False)} unidades.\")\n",
        "    elif opcion == '6':\n",
        "        fardos, unidades = convertir_fardos(cantidad)\n",
        "        print(f\"{cantidad} unidades son {int(fardos)} fardos y {int(unidades)} unidades.\")\n",
        "    else:\n",
        "        print(\"Opción no válida.\")\n",
        "\n",
        "    continuar = input(\"¿Desea realizar otra conversión? (s/n): \")\n",
        "    if continuar.lower() != 's':\n",
        "        break"
      ],
      "metadata": {
        "id": "YQVFpBx6z0gn",
        "colab": {
          "base_uri": "https://localhost:8080/"
        },
        "outputId": "347e77b4-f04a-4a7a-cdc7-791e5de4f088"
      },
      "execution_count": null,
      "outputs": [
        {
          "name": "stdout",
          "output_type": "stream",
          "text": [
            "Conversor de Unidades\n",
            "1. Cajas a unidades\n",
            "2. Unidades a cajas\n",
            "3. Sacos a libras\n",
            "4. Libras a sacos\n",
            "5. Fardos a unidades\n",
            "6. Unidades a fardos\n",
            "Seleccione una opción: 3\n",
            "Ingrese la cantidad para convertir: 78\n",
            "78.0 sacos son 3900.0 libras.\n",
            "¿Desea realizar otra conversión? (s/n): n\n"
          ]
        }
      ]
    },
    {
      "cell_type": "markdown",
      "source": [
        "* almacenamiento"
      ],
      "metadata": {
        "id": "B0khPA6ZjCB_"
      }
    },
    {
      "cell_type": "code",
      "source": [
        "Almacenamiento = {\n",
        "    \"B\": 1,\n",
        "    \"Kb\": 0.001,\n",
        "    \"Mb\": 1e-6,\n",
        "    \"Gb\": 1e-9,\n",
        "    \"Tb\": 1e-12,\n",
        "    \"Pb\": 1e-15,\n",
        "    \"Eb\": 1e+18,\n",
        "}"
      ],
      "metadata": {
        "id": "77va-dSSjEZ6"
      },
      "execution_count": null,
      "outputs": []
    },
    {
      "cell_type": "code",
      "source": [
        "print(\"Almacenamiento Disponibles:\")\n",
        "for almacenamiento in Almacenamiento:\n",
        "    print(almacenamiento)\n",
        "\n",
        "nombre_de_alma = \"\"\n",
        "nombre_alma_a_convertir = \"\"\n",
        "while nombre_de_alma not in Almacenamiento:\n",
        "    nombre_de_alma = input(\"almacenamiento 1: \")\n",
        "\n",
        "while nombre_alma_a_convertir not in Almacenamiento:\n",
        "    nombre_alma_a_convertir = input(\"almacenamiento 2: \")\n",
        "\n",
        "\n",
        "cantidad = float(input(f\"Ingresa la cantidad de {nombre_de_alma}: \"))\n",
        "equivalencia_origen = Almacenamiento[nombre_de_alma]\n",
        "equivalencia_destino = Almacenamiento[nombre_alma_a_convertir]\n",
        "equivalencia = (equivalencia_destino/equivalencia_origen)*cantidad\n",
        "print(f\"{cantidad:.2f} {nombre_de_alma} equivale a {equivalencia:.2f} {nombre_alma_a_convertir}.\")"
      ],
      "metadata": {
        "id": "2RYyuAPzjExg",
        "colab": {
          "base_uri": "https://localhost:8080/"
        },
        "outputId": "799c7925-f12a-4c0c-9f4e-72ceb7c892f5"
      },
      "execution_count": null,
      "outputs": [
        {
          "output_type": "stream",
          "name": "stdout",
          "text": [
            "Almacenamiento Disponibles:\n",
            "B\n",
            "Kb\n",
            "Mb\n",
            "Gb\n",
            "Tb\n",
            "Pb\n",
            "Eb\n",
            "almacenamiento 1: 1\n",
            "almacenamiento 1: B\n",
            "almacenamiento 2: Kb\n",
            "Ingresa la cantidad de B: 1\n",
            "1.00 B equivale a 0.00 Kb.\n"
          ]
        }
      ]
    },
    {
      "cell_type": "markdown",
      "source": [
        "* tiempo"
      ],
      "metadata": {
        "id": "qT2f6FYYjJPo"
      }
    },
    {
      "cell_type": "code",
      "source": [
        "Tiempo = {\n",
        "    \"min\": 60,\n",
        "    \"hora\": 1,\n",
        "    \"Dia\": 1440,\n",
        "    \"semana\": 10080,\n",
        "    \"mes 30\": 43200,\n",
        "    \"mes 31\": 44640,\n",
        "}"
      ],
      "metadata": {
        "id": "h7JG6W3ujLFY"
      },
      "execution_count": null,
      "outputs": []
    },
    {
      "cell_type": "code",
      "source": [
        "print(\"Tiempo Disponible:\")\n",
        "for tiempo in Tiempo:\n",
        "    print(tiempo)\n",
        "\n",
        "nombre_de_tiempo = \"\"\n",
        "nombre_tiempo_a_convertir = \"\"\n",
        "while nombre_de_tiempo not in Tiempo:\n",
        "    nombre_de_tiempo = input(\"tiempo 1: \")\n",
        "\n",
        "while nombre_tiempo_a_convertir not in Tiempo:\n",
        "    nombre_tiempo_a_convertir = input(\"tiempo 2: \")\n",
        "\n",
        "\n",
        "cantidad = float(input(f\"Ingresa la cantidad de {nombre_de_tiempo}: \"))\n",
        "equivalencia_origen = Tiempo[nombre_de_tiempo]\n",
        "equivalencia_destino = Tiempo[nombre_tiempo_a_convertir]\n",
        "equivalencia = (equivalencia_destino/equivalencia_origen)*cantidad\n",
        "print(f\"{cantidad:.2f} {nombre_de_tiempo} equivale a {equivalencia:.2f} {nombre_tiempo_a_convertir}.\")"
      ],
      "metadata": {
        "id": "V0uiC1QEjLXI"
      },
      "execution_count": null,
      "outputs": []
    },
    {
      "cell_type": "markdown",
      "source": [
        "* volumen"
      ],
      "metadata": {
        "id": "eOYA9f-qjSOC"
      }
    },
    {
      "cell_type": "code",
      "source": [
        "Volumen = {\n",
        "    \"litro\": 1,\n",
        "    \"ml\": 1000,\n",
        "    \"galon\": 0.219969,\n",
        "    \"taza\": 3.51951,\n",
        "    \"pinta\": 1.75975,\n",
        "    \"onza\": 35.1951,\n",
        "    \"cucharada\": 56.3121,\n",
        "    \"cucharadita\": 168.936,\n",
        "    \"PieCub\": 0.0353147,\n",
        "    \"pulgadaCub\": 61.0237,\n",
        "}"
      ],
      "metadata": {
        "id": "Bwp-bD9YjUHg"
      },
      "execution_count": null,
      "outputs": []
    },
    {
      "cell_type": "code",
      "source": [
        "print(\"Volumenes Disponible:\")\n",
        "for volumen in Volumen:\n",
        "    print(volumen)\n",
        "\n",
        "nombre_de_volumen = \"\"\n",
        "nombre_volumen_a_convertir = \"\"\n",
        "while nombre_de_volumen not in Volumen:\n",
        "    nombre_de_volumen = input(\"volumen 1: \")\n",
        "\n",
        "while nombre_volumen_a_convertir not in Volumen:\n",
        "    nombre_volumen_a_convertir = input(\"volumen 2: \")\n",
        "\n",
        "\n",
        "cantidad = float(input(f\"Ingresa la cantidad de {nombre_de_volumen}: \"))\n",
        "equivalencia_origen = Volumen[nombre_de_volumen]\n",
        "equivalencia_destino = Volumen[nombre_volumen_a_convertir]\n",
        "equivalencia = (equivalencia_destino/equivalencia_origen)*cantidad\n",
        "print(f\"{cantidad:.2f} {nombre_de_volumen} equivale a {equivalencia:.2f} {nombre_volumen_a_convertir}.\")"
      ],
      "metadata": {
        "id": "rjwLUyu1jUVb"
      },
      "execution_count": null,
      "outputs": []
    },
    {
      "cell_type": "markdown",
      "source": [
        "* area"
      ],
      "metadata": {
        "id": "-MfTpshVjZQh"
      }
    },
    {
      "cell_type": "code",
      "source": [
        "Area = {\n",
        "    \"m2\": 1,\n",
        "    \"km2\": 1e-6,\n",
        "    \"milla2\": 3.861e-7,\n",
        "    \"yarda2\": 1.19599,\n",
        "    \"pie2\": 10.7639,\n",
        "    \"pulg2\": 1550,\n",
        "    \"hec\": 1e-4,\n",
        "    \"acre\": 0.000247105,\n",
        "}"
      ],
      "metadata": {
        "id": "maKgZf1cjaRK"
      },
      "execution_count": null,
      "outputs": []
    },
    {
      "cell_type": "code",
      "source": [
        "print(\"Areas Disponible:\")\n",
        "for area in Area:\n",
        "    print(area)\n",
        "\n",
        "nombre_de_area = \"\"\n",
        "nombre_area_a_convertir = \"\"\n",
        "while nombre_de_area not in Area:\n",
        "    nombre_de_area = input(\"area 1: \")\n",
        "\n",
        "while nombre_area_a_convertir not in Area:\n",
        "    nombre_area_a_convertir = input(\"area 2: \")\n",
        "\n",
        "\n",
        "cantidad = float(input(f\"Ingresa la cantidad de {nombre_de_area}: \"))\n",
        "equivalencia_origen = Area[nombre_de_area]\n",
        "equivalencia_destino = Area[nombre_area_a_convertir]\n",
        "equivalencia = (equivalencia_destino/equivalencia_origen)*cantidad\n",
        "print(f\"{cantidad:.2f} {nombre_de_area} equivale a {equivalencia:.2f} {nombre_area_a_convertir}.\")"
      ],
      "metadata": {
        "id": "xWMyt1KZjahi"
      },
      "execution_count": null,
      "outputs": []
    },
    {
      "cell_type": "markdown",
      "source": [
        "Escriba un programa que encuentre la media aritmetica de una serie de numeros introducidos por el usuario"
      ],
      "metadata": {
        "id": "Ti4rLGB-Bupy"
      }
    },
    {
      "cell_type": "code",
      "source": [
        "numeros = int(input(\"¿Cuántos números deseas ingresar?: \"))\n",
        "suma = 0\n",
        "\n",
        "for i in range(numeros):\n",
        "  numero = float(input(f\"Ingrese el número {i+1}: \"))\n",
        "  suma += numero\n",
        "\n",
        "media = suma / numeros\n",
        "\n",
        "print(f\"La media aritmética de los {numeros} números es: {media}\")"
      ],
      "metadata": {
        "id": "iMHwewVfo5uI",
        "colab": {
          "base_uri": "https://localhost:8080/"
        },
        "outputId": "8e79fbc8-554c-4139-fc29-b2488ad44002"
      },
      "execution_count": null,
      "outputs": [
        {
          "output_type": "stream",
          "name": "stdout",
          "text": [
            "¿Cuántos números deseas ingresar?: 2\n",
            "Ingrese el número 1: 38\n",
            "Ingrese el número 2: 20\n",
            "La media aritmética de los 2 números es: 29.0\n"
          ]
        }
      ]
    },
    {
      "cell_type": "markdown",
      "source": [
        "Escriba un programa que determine si una palabra introducida por el usuario es palindrome o no, ejm. de palabras palindrome: Ana, oso, oro, etc."
      ],
      "metadata": {
        "id": "vxIT9HdRB_vY"
      }
    },
    {
      "cell_type": "code",
      "source": [
        "palabra = input(\"Introduce una palabra: \")\n",
        "palabra = palabra.lower()\n",
        "\n",
        "palabra_reversa = palabra[::-1]\n",
        "\n",
        "if palabra == palabra_reversa:\n",
        "    print(f\"'{palabra}' es un palíndromo.\")\n",
        "else:\n",
        "    print(f\"'{palabra}' no es un palíndromo.\")"
      ],
      "metadata": {
        "colab": {
          "base_uri": "https://localhost:8080/"
        },
        "id": "hlnNPm_CqaIA",
        "outputId": "d0cc30f6-f220-4190-b58c-e605d51adcde"
      },
      "execution_count": null,
      "outputs": [
        {
          "output_type": "stream",
          "name": "stdout",
          "text": [
            "Introduce una palabra: manzana\n",
            "'manzana' no es un palíndromo.\n"
          ]
        }
      ]
    },
    {
      "cell_type": "markdown",
      "source": [
        "Escriba un programa que convierta un numero instroducido por el usuario a su equivalente en numeros romanos. Ejm: 5 -> V"
      ],
      "metadata": {
        "id": "Lcgms9LKCfEv"
      }
    },
    {
      "cell_type": "code",
      "source": [
        "def romano(n):\n",
        "    mapa = {\n",
        "        1: \"I\",\n",
        "        4: \"IV\",\n",
        "        5: \"V\",\n",
        "        9: \"IX\",\n",
        "        10: \"X\",\n",
        "        40: \"XL\",\n",
        "        50: \"L\",\n",
        "        90: \"XC\",\n",
        "        100: \"C\",\n",
        "        400: \"CD\",\n",
        "        500: \"D\",\n",
        "        900: \"CM\",\n",
        "        1000: \"M\"\n",
        "    }\n",
        "\n",
        "    resultado = []\n",
        "\n",
        "    claves = sorted(mapa.keys(), reverse=True)\n",
        "\n",
        "    for clave in claves:\n",
        "        while n >= clave:\n",
        "            resultado.append(mapa[clave])\n",
        "            n -= clave\n",
        "\n",
        "    return \"\".join(resultado)\n",
        "\n",
        "try:\n",
        "    numero = int(input(\"Introduce un número para convertirlo a números romanos: \"))\n",
        "    if numero <= 0 or numero > 5000:\n",
        "        print(\"El número debe estar en el rango de 1 a 5000.\")\n",
        "    else:\n",
        "        romano = romano(numero)\n",
        "        print(f\"El número {numero} en números romanos es {romano}\")\n",
        "except ValueError:\n",
        "    print(\"Por favor, introduce un número válido.\")"
      ],
      "metadata": {
        "colab": {
          "base_uri": "https://localhost:8080/"
        },
        "id": "NGijJUwtraGm",
        "outputId": "922c323c-ff25-475b-9980-5a7dc0ffa872"
      },
      "execution_count": null,
      "outputs": [
        {
          "output_type": "stream",
          "name": "stdout",
          "text": [
            "Introduce un número para convertirlo a números romanos: 200\n",
            "El número 200 en números romanos es CC\n"
          ]
        }
      ]
    },
    {
      "cell_type": "markdown",
      "source": [
        "#PARCIAL 1"
      ],
      "metadata": {
        "id": "ue-Vakz7OsKE"
      }
    },
    {
      "cell_type": "markdown",
      "source": [
        "ESTUDIANTE: Andrea Candelaria Reyes Saravia\n",
        "CODIGO: USTS611317"
      ],
      "metadata": {
        "id": "Fn98RJHjTUGk"
      }
    },
    {
      "cell_type": "markdown",
      "source": [
        "2.\tDesarrolle el conversor de Área (Superficie) haciendo uso de los diccionarios y las funciones de usuario en Python que contenga las siguientes opciones: (20%)\n",
        "a.\tPie Cuadrado\n",
        "b.\tVara Cuadrada\n",
        "c.\tYarda Cuadrada\n",
        "d.\tMetro Cuadrado\n",
        "e.\tTareas\n",
        "f.\tManzana\n",
        "g.\tHectárea\n"
      ],
      "metadata": {
        "id": "su4J3ucGTP3G"
      }
    },
    {
      "cell_type": "code",
      "source": [
        "Area = {\n",
        "    \"pieC\": 10.7639,\n",
        "    \"varaC\": 0.688896,\n",
        "    \"yardaC\": 1.19599,\n",
        "    \"metroC\": 1,\n",
        "    \"tareas\": 628.86,\n",
        "    \"manzana\": 7000,\n",
        "    \"hectarea\": 1e-4,\n",
        "}"
      ],
      "metadata": {
        "id": "ZYH2ezLFTed7"
      },
      "execution_count": null,
      "outputs": []
    },
    {
      "cell_type": "code",
      "source": [
        "print(\"Areas Disponible:\")\n",
        "for area in Area:\n",
        "    print(area)\n",
        "\n",
        "nombre_de_area = \"\"\n",
        "nombre_area_a_convertir = \"\"\n",
        "while nombre_de_area not in Area:\n",
        "    nombre_de_area = input(\"area 1: \")\n",
        "\n",
        "while nombre_area_a_convertir not in Area:\n",
        "    nombre_area_a_convertir = input(\"area 2: \")\n",
        "\n",
        "\n",
        "cantidad = float(input(f\"Ingresa la cantidad de {nombre_de_area}: \"))\n",
        "equivalencia_origen = Area[nombre_de_area]\n",
        "equivalencia_destino = Area[nombre_area_a_convertir]\n",
        "equivalencia = (equivalencia_destino/equivalencia_origen)*cantidad\n",
        "print(f\"{cantidad:.2f} {nombre_de_area} equivale a {equivalencia:.2f} {nombre_area_a_convertir}.\")"
      ],
      "metadata": {
        "colab": {
          "base_uri": "https://localhost:8080/"
        },
        "id": "JQBYgJSimgad",
        "outputId": "dbac918c-5988-460e-e4bf-ba92b60c2f55"
      },
      "execution_count": null,
      "outputs": [
        {
          "output_type": "stream",
          "name": "stdout",
          "text": [
            "Areas Disponible:\n",
            "pieC\n",
            "varaC\n",
            "yardaC\n",
            "metroC\n",
            "tareas\n",
            "manzana\n",
            "hectarea\n",
            "area 1: pieC\n",
            "area 2: varaC\n",
            "Ingresa la cantidad de pieC: 213\n",
            "213.00 pieC equivale a 13.63 varaC.\n"
          ]
        }
      ]
    }
  ]
}